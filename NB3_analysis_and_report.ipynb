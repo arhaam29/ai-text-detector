{
  "nbformat": 4,
  "nbformat_minor": 0,
  "metadata": {
    "colab": {
      "provenance": [],
      "authorship_tag": "ABX9TyPEeRj76fa8qMtRNkFHOij4",
      "include_colab_link": true
    },
    "kernelspec": {
      "name": "python3",
      "display_name": "Python 3"
    },
    "language_info": {
      "name": "python"
    }
  },
  "cells": [
    {
      "cell_type": "markdown",
      "metadata": {
        "id": "view-in-github",
        "colab_type": "text"
      },
      "source": [
        "<a href=\"https://colab.research.google.com/github/arhaam29/ai-text-detector/blob/main/NB3_analysis_and_report.ipynb\" target=\"_parent\"><img src=\"https://colab.research.google.com/assets/colab-badge.svg\" alt=\"Open In Colab\"/></a>"
      ]
    },
    {
      "cell_type": "markdown",
      "source": [
        "#`SEA 820 NLP Final Project: Detecting AI-Generated Text`\n",
        "**`Author: Arhaam Khan`** <br>\n",
        "**`student id: 162087217`** <br>\n",
        "**`email: ana40@myseneca.ca`**<br>"
      ],
      "metadata": {
        "id": "I0oMoy-_A36w"
      }
    },
    {
      "cell_type": "markdown",
      "source": [
        "##**`Overview`**:\n",
        "`The widespread adoption of Large Language Models (LLMs) like GPT has created a new challenge: distinguishing between human-written and machine-generated text. This has significant implications for academic integrity, online content moderation, and misinformation detection.`"
      ],
      "metadata": {
        "id": "eC9Yo8jvA6J9"
      }
    },
    {
      "cell_type": "markdown",
      "source": [
        "##**`Goal`**:\n",
        "***`The goal of this project is to build, evaluate, and compare different NLP models for the task of classifying a given text as either \"human-written\" or \"AI-generated.\"`***"
      ],
      "metadata": {
        "id": "Gt-4sDp3GOs9"
      }
    },
    {
      "cell_type": "markdown",
      "source": [
        "##**`Learning Objectives:`**\n",
        "\n",
        "* **`Apply Transfer Learning:`** `Fine-tune a pre-trained Transformer model (e.g. DistilBERT or RoBERTa) on a specific classification task.`\n",
        "* **`Implement and Compare Models:`** `Build and evaluate at least two different types of models: a \"classic\" model (e.g., Logistic Regression with TF-IDF features and a Transformer-based model.`\n",
        "* **`Conduct Rigorous Evaluation:`** `Go beyond accuracy. Use precision, recall, and F1-score to analyze model performance and perform a detailed error analysis.`\n",
        "* **`Analyze Model Behavior:`** `Investigate what features or patterns your models are learning to distinguish between human and AI text.`\n",
        "* **`Consider Ethical Implications:`** `Reflect on the societal impact, potential biases, and ethical challenges of deploying AI-generated text detectors.`\n"
      ],
      "metadata": {
        "id": "tFt-DMfeFBFz"
      }
    },
    {
      "cell_type": "markdown",
      "source": [
        "##**`The Dataset`**\n",
        "\n",
        "* **`\"AI vs. Human Text\" dataset`**`, which is well-suited for this task. It contains a large collection of text excerpts, with balanced examples from both human authors and various AI models.`\n",
        "* **`Source:`**`Use the [AI vs Human Text](https://www.kaggle.com/datasets/shanegerami/ai-vs-human-text) dataset from Kaggle. This dataset is specifically curated for this classification challenge.`\n",
        "* **`Content:`**`The dataset includes student essays and other text forms, making it relevant and challenging.`\n",
        "* **`Labels:`**`Each text sample is labeled as either 0 (human) or 1 (AI-generated).`"
      ],
      "metadata": {
        "id": "c07Q0ao4GQQ0"
      }
    },
    {
      "cell_type": "markdown",
      "source": [
        "##**`Summary of Models & Results (tables, charts)`**\n",
        "\n",
        "I trained and evaluated two models:\n",
        "\n",
        "1. **Classic Model:** Logistic Regression with TF-IDF features\n",
        "2. **Transformer Model:** Fine-tuned DistilBERT using Hugging Face Transformers\n",
        "\n",
        "| Model | Accuracy | Precision | Recall | F1 Score |\n",
        "|-------|----------|-----------|--------|----------|\n",
        "| TF-IDF + Logistic Regression | TBD | TBD | TBD | TBD |\n",
        "| DistilBERT Fine-Tuned        | TBD | TBD | TBD | TBD |\n"
      ],
      "metadata": {
        "id": "vhoaVYV-H8M3"
      }
    },
    {
      "cell_type": "markdown",
      "source": [
        "##**`Error Analysis`**\n",
        "\n",
        "`False positives/negatives`\n",
        "\n",
        "`Examples and discussion`"
      ],
      "metadata": {
        "id": "B3YaRKZFIa2F"
      }
    },
    {
      "cell_type": "markdown",
      "source": [
        "##**`Ethical Implications`**\n",
        "\n",
        "`Bias risks`\n",
        "\n",
        "`Use case considerations`"
      ],
      "metadata": {
        "id": "6gpbR5S9Ih7f"
      }
    },
    {
      "cell_type": "markdown",
      "source": [
        "##**`Conclusion & Reflection`**"
      ],
      "metadata": {
        "id": "I97AwP-QIodF"
      }
    }
  ]
}